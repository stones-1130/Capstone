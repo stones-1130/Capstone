{
 "cells": [
  {
   "cell_type": "markdown",
   "metadata": {},
   "source": [
    "# Final Project Submission for Capstone"
   ]
  },
  {
   "cell_type": "markdown",
   "metadata": {},
   "source": [
    "* Student name: **Andrew Hotchkiss**\n",
    "* Student pace: **Part time**\n",
    "* Scheduled capstone review date/time: \n",
    "* Instructor name: **James Irving**\n",
    "* Blog post URL: https://stones-1130.github.io/"
   ]
  },
  {
   "cell_type": "markdown",
   "metadata": {},
   "source": [
    "## TABLE OF CONTENTS "
   ]
  },
  {
   "cell_type": "markdown",
   "metadata": {},
   "source": [
    "*Click to jump to matching Markdown Header.*<br><br>\n",
    "\n",
    "<font size=3rem>\n",
    "    \n",
    "- **[Introduction](#INTRODUCTION)<br>**\n",
    "- **[OBTAIN](#OBTAIN)**<br>\n",
    "- **[SCRUB](#SCRUB)**<br>\n",
    "- **[EXPLORE](#EXPLORE)**<br>\n",
    "- **[MODEL](#MODEL)**<br>\n",
    "- **[iNTERPRET](#iNTERPRET)**<br>\n",
    "- **[Conclusions/Recommendations](#CONCLUSIONS-&-RECOMMENDATIONS)<br>**\n",
    "</font>\n",
    "___"
   ]
  },
  {
   "cell_type": "markdown",
   "metadata": {},
   "source": [
    "# ABSTRACT"
   ]
  },
  {
   "cell_type": "markdown",
   "metadata": {},
   "source": [
    "> briefly explains your problem, your methodology, and your findings, and business recommendations as a result of your findings. This section should be 1-2 paragraphs long"
   ]
  },
  {
   "cell_type": "markdown",
   "metadata": {},
   "source": [
    "# INTRODUCTION"
   ]
  },
  {
   "cell_type": "markdown",
   "metadata": {},
   "source": [
    "> README from the data set: \n",
    "\n",
    "\"This dataset contains sensor data that was collected in the home of\n",
    "a volunteer adult.  The resident in the home was a woman.  The woman's\n",
    "children and grandchildren visited on a regular basis. The file contains\n",
    "raw sensor events, no activities are annotated.\n",
    "\n",
    "The sensor events are generated from motion sensors (these sensor IDs begin\n",
    "with \"M\"), door closure sensors (these sensor IDs begin with \"D\"), and\n",
    "temperature sensors (these sensor IDs begin with \"T\").\n",
    "The layout of the sensors in the home is shown in the file aruba.jpg.\n",
    "\n",
    "You may download and analyze this data free of charge.  Please do not\n",
    "distribute the data without explicit permission from the CASAS research group.\n",
    "Please reference the CASAS project in any publications resulting from using\n",
    "this dataset.\n",
    "\n",
    "All use of the data must cite the WSU CASAS smart home project.\n",
    "\n",
    "D. Cook. Learning setting-generalized activity models for smart spaces.\n",
    "IEEE Intelligent Systems, 2011.\""
   ]
  },
  {
   "cell_type": "markdown",
   "metadata": {},
   "source": [
    "> **Goal: Forecast nighttime bathroom use.**"
   ]
  },
  {
   "cell_type": "markdown",
   "metadata": {},
   "source": [
    "# OBTAIN"
   ]
  },
  {
   "cell_type": "markdown",
   "metadata": {},
   "source": [
    "#### IMPORT LIBRARIES AND PACKAGES"
   ]
  },
  {
   "cell_type": "code",
   "execution_count": 20,
   "metadata": {},
   "outputs": [],
   "source": [
    "import pandas as pd\n",
    "import numpy as np\n",
    "import matplotlib.pyplot as plt\n",
    "%matplotlib inline\n",
    "import seaborn as sns\n",
    "import statsmodels.api as sm\n",
    "\n",
    "#Project notebook settings\n",
    "pd.set_option('display.max_columns', 0)\n",
    "\n",
    "import warnings\n",
    "warnings.filterwarnings('ignore')\n",
    "\n",
    "plt.style.use('seaborn-poster')"
   ]
  },
  {
   "cell_type": "code",
   "execution_count": 21,
   "metadata": {},
   "outputs": [
    {
     "data": {
      "text/plain": [
       "(1719558, 5)"
      ]
     },
     "execution_count": 21,
     "metadata": {},
     "output_type": "execute_result"
    }
   ],
   "source": [
    "df = pd.read_csv('data_clean.csv', sep=' ', header=None, \n",
    "                  names=['Date', 'Time', 'Sensor', 'Reading', 'Event'])\n",
    "\n",
    "df.shape"
   ]
  },
  {
   "cell_type": "code",
   "execution_count": 22,
   "metadata": {},
   "outputs": [],
   "source": [
    "df.reset_index(inplace=True)\n",
    "\n"
   ]
  },
  {
   "cell_type": "code",
   "execution_count": 23,
   "metadata": {},
   "outputs": [
    {
     "data": {
      "text/html": [
       "<div>\n",
       "<style scoped>\n",
       "    .dataframe tbody tr th:only-of-type {\n",
       "        vertical-align: middle;\n",
       "    }\n",
       "\n",
       "    .dataframe tbody tr th {\n",
       "        vertical-align: top;\n",
       "    }\n",
       "\n",
       "    .dataframe thead th {\n",
       "        text-align: right;\n",
       "    }\n",
       "</style>\n",
       "<table border=\"1\" class=\"dataframe\">\n",
       "  <thead>\n",
       "    <tr style=\"text-align: right;\">\n",
       "      <th></th>\n",
       "      <th>Date</th>\n",
       "      <th>Time</th>\n",
       "      <th>Sensor</th>\n",
       "      <th>Reading</th>\n",
       "      <th>Event</th>\n",
       "      <th>Event_2</th>\n",
       "    </tr>\n",
       "  </thead>\n",
       "  <tbody>\n",
       "  </tbody>\n",
       "</table>\n",
       "</div>"
      ],
      "text/plain": [
       "Empty DataFrame\n",
       "Columns: [Date, Time, Sensor, Reading, Event, Event_2]\n",
       "Index: []"
      ]
     },
     "execution_count": 23,
     "metadata": {},
     "output_type": "execute_result"
    }
   ],
   "source": [
    "df.columns = ['Date', 'Time', 'Sensor', 'Reading', 'Event', 'Event_2']\n",
    "\n",
    "df[df['Time'].str.contains('\\t')]\n"
   ]
  },
  {
   "cell_type": "code",
   "execution_count": 24,
   "metadata": {},
   "outputs": [
    {
     "data": {
      "text/html": [
       "<div>\n",
       "<style scoped>\n",
       "    .dataframe tbody tr th:only-of-type {\n",
       "        vertical-align: middle;\n",
       "    }\n",
       "\n",
       "    .dataframe tbody tr th {\n",
       "        vertical-align: top;\n",
       "    }\n",
       "\n",
       "    .dataframe thead th {\n",
       "        text-align: right;\n",
       "    }\n",
       "</style>\n",
       "<table border=\"1\" class=\"dataframe\">\n",
       "  <thead>\n",
       "    <tr style=\"text-align: right;\">\n",
       "      <th></th>\n",
       "      <th>Date</th>\n",
       "      <th>Time</th>\n",
       "      <th>Sensor</th>\n",
       "      <th>Reading</th>\n",
       "      <th>Event</th>\n",
       "      <th>Event_2</th>\n",
       "    </tr>\n",
       "  </thead>\n",
       "  <tbody>\n",
       "    <tr>\n",
       "      <td>0</td>\n",
       "      <td>2010-11-04</td>\n",
       "      <td>00:03:50.209589</td>\n",
       "      <td>M003</td>\n",
       "      <td>ON</td>\n",
       "      <td>Sleeping</td>\n",
       "      <td>begin</td>\n",
       "    </tr>\n",
       "    <tr>\n",
       "      <td>1</td>\n",
       "      <td>2010-11-04</td>\n",
       "      <td>00:03:57.399391</td>\n",
       "      <td>M003</td>\n",
       "      <td>OFF</td>\n",
       "      <td>NaN</td>\n",
       "      <td>NaN</td>\n",
       "    </tr>\n",
       "    <tr>\n",
       "      <td>2</td>\n",
       "      <td>2010-11-04</td>\n",
       "      <td>00:15:08.984841</td>\n",
       "      <td>T002</td>\n",
       "      <td>21.5</td>\n",
       "      <td>NaN</td>\n",
       "      <td>NaN</td>\n",
       "    </tr>\n",
       "    <tr>\n",
       "      <td>3</td>\n",
       "      <td>2010-11-04</td>\n",
       "      <td>00:30:19.185547</td>\n",
       "      <td>T003</td>\n",
       "      <td>21</td>\n",
       "      <td>NaN</td>\n",
       "      <td>NaN</td>\n",
       "    </tr>\n",
       "    <tr>\n",
       "      <td>4</td>\n",
       "      <td>2010-11-04</td>\n",
       "      <td>00:30:19.385336</td>\n",
       "      <td>T004</td>\n",
       "      <td>21</td>\n",
       "      <td>NaN</td>\n",
       "      <td>NaN</td>\n",
       "    </tr>\n",
       "    <tr>\n",
       "      <td>...</td>\n",
       "      <td>...</td>\n",
       "      <td>...</td>\n",
       "      <td>...</td>\n",
       "      <td>...</td>\n",
       "      <td>...</td>\n",
       "      <td>...</td>\n",
       "    </tr>\n",
       "    <tr>\n",
       "      <td>1719553</td>\n",
       "      <td>2011-06-11</td>\n",
       "      <td>23:42:59.28507</td>\n",
       "      <td>T002</td>\n",
       "      <td>25.5</td>\n",
       "      <td>NaN</td>\n",
       "      <td>NaN</td>\n",
       "    </tr>\n",
       "    <tr>\n",
       "      <td>1719554</td>\n",
       "      <td>2011-06-11</td>\n",
       "      <td>23:48:02.888409</td>\n",
       "      <td>T001</td>\n",
       "      <td>23.5</td>\n",
       "      <td>NaN</td>\n",
       "      <td>NaN</td>\n",
       "    </tr>\n",
       "    <tr>\n",
       "      <td>1719555</td>\n",
       "      <td>2011-06-11</td>\n",
       "      <td>23:48:02.988798</td>\n",
       "      <td>T002</td>\n",
       "      <td>25</td>\n",
       "      <td>NaN</td>\n",
       "      <td>NaN</td>\n",
       "    </tr>\n",
       "    <tr>\n",
       "      <td>1719556</td>\n",
       "      <td>2011-06-11</td>\n",
       "      <td>23:53:06.4292</td>\n",
       "      <td>T002</td>\n",
       "      <td>25.5</td>\n",
       "      <td>NaN</td>\n",
       "      <td>NaN</td>\n",
       "    </tr>\n",
       "    <tr>\n",
       "      <td>1719557</td>\n",
       "      <td>2011-06-11</td>\n",
       "      <td>23:58:10.004834</td>\n",
       "      <td>T002</td>\n",
       "      <td>25</td>\n",
       "      <td>Sleeping</td>\n",
       "      <td>end</td>\n",
       "    </tr>\n",
       "  </tbody>\n",
       "</table>\n",
       "<p>1719558 rows × 6 columns</p>\n",
       "</div>"
      ],
      "text/plain": [
       "               Date             Time Sensor Reading     Event Event_2\n",
       "0        2010-11-04  00:03:50.209589   M003      ON  Sleeping   begin\n",
       "1        2010-11-04  00:03:57.399391   M003     OFF       NaN     NaN\n",
       "2        2010-11-04  00:15:08.984841   T002    21.5       NaN     NaN\n",
       "3        2010-11-04  00:30:19.185547   T003      21       NaN     NaN\n",
       "4        2010-11-04  00:30:19.385336   T004      21       NaN     NaN\n",
       "...             ...              ...    ...     ...       ...     ...\n",
       "1719553  2011-06-11   23:42:59.28507   T002    25.5       NaN     NaN\n",
       "1719554  2011-06-11  23:48:02.888409   T001    23.5       NaN     NaN\n",
       "1719555  2011-06-11  23:48:02.988798   T002      25       NaN     NaN\n",
       "1719556  2011-06-11    23:53:06.4292   T002    25.5       NaN     NaN\n",
       "1719557  2011-06-11  23:58:10.004834   T002      25  Sleeping     end\n",
       "\n",
       "[1719558 rows x 6 columns]"
      ]
     },
     "execution_count": 24,
     "metadata": {},
     "output_type": "execute_result"
    }
   ],
   "source": [
    "df"
   ]
  },
  {
   "cell_type": "code",
   "execution_count": 25,
   "metadata": {},
   "outputs": [
    {
     "data": {
      "text/html": [
       "<div>\n",
       "<style scoped>\n",
       "    .dataframe tbody tr th:only-of-type {\n",
       "        vertical-align: middle;\n",
       "    }\n",
       "\n",
       "    .dataframe tbody tr th {\n",
       "        vertical-align: top;\n",
       "    }\n",
       "\n",
       "    .dataframe thead th {\n",
       "        text-align: right;\n",
       "    }\n",
       "</style>\n",
       "<table border=\"1\" class=\"dataframe\">\n",
       "  <thead>\n",
       "    <tr style=\"text-align: right;\">\n",
       "      <th></th>\n",
       "      <th>Date</th>\n",
       "      <th>Time</th>\n",
       "      <th>Sensor</th>\n",
       "      <th>Reading</th>\n",
       "      <th>Event</th>\n",
       "      <th>Event_2</th>\n",
       "      <th>Date_Time</th>\n",
       "      <th>Annotation</th>\n",
       "    </tr>\n",
       "  </thead>\n",
       "  <tbody>\n",
       "    <tr>\n",
       "      <td>0</td>\n",
       "      <td>2010-11-04</td>\n",
       "      <td>00:03:50.209589</td>\n",
       "      <td>M003</td>\n",
       "      <td>ON</td>\n",
       "      <td>Sleeping</td>\n",
       "      <td>begin</td>\n",
       "      <td>2010-11-04 00:03:50.209589</td>\n",
       "      <td>Sleeping begin</td>\n",
       "    </tr>\n",
       "    <tr>\n",
       "      <td>1</td>\n",
       "      <td>2010-11-04</td>\n",
       "      <td>00:03:57.399391</td>\n",
       "      <td>M003</td>\n",
       "      <td>OFF</td>\n",
       "      <td>NaN</td>\n",
       "      <td>NaN</td>\n",
       "      <td>2010-11-04 00:03:57.399391</td>\n",
       "      <td>NaN</td>\n",
       "    </tr>\n",
       "    <tr>\n",
       "      <td>2</td>\n",
       "      <td>2010-11-04</td>\n",
       "      <td>00:15:08.984841</td>\n",
       "      <td>T002</td>\n",
       "      <td>21.5</td>\n",
       "      <td>NaN</td>\n",
       "      <td>NaN</td>\n",
       "      <td>2010-11-04 00:15:08.984841</td>\n",
       "      <td>NaN</td>\n",
       "    </tr>\n",
       "    <tr>\n",
       "      <td>3</td>\n",
       "      <td>2010-11-04</td>\n",
       "      <td>00:30:19.185547</td>\n",
       "      <td>T003</td>\n",
       "      <td>21</td>\n",
       "      <td>NaN</td>\n",
       "      <td>NaN</td>\n",
       "      <td>2010-11-04 00:30:19.185547</td>\n",
       "      <td>NaN</td>\n",
       "    </tr>\n",
       "    <tr>\n",
       "      <td>4</td>\n",
       "      <td>2010-11-04</td>\n",
       "      <td>00:30:19.385336</td>\n",
       "      <td>T004</td>\n",
       "      <td>21</td>\n",
       "      <td>NaN</td>\n",
       "      <td>NaN</td>\n",
       "      <td>2010-11-04 00:30:19.385336</td>\n",
       "      <td>NaN</td>\n",
       "    </tr>\n",
       "    <tr>\n",
       "      <td>...</td>\n",
       "      <td>...</td>\n",
       "      <td>...</td>\n",
       "      <td>...</td>\n",
       "      <td>...</td>\n",
       "      <td>...</td>\n",
       "      <td>...</td>\n",
       "      <td>...</td>\n",
       "      <td>...</td>\n",
       "    </tr>\n",
       "    <tr>\n",
       "      <td>1719553</td>\n",
       "      <td>2011-06-11</td>\n",
       "      <td>23:42:59.28507</td>\n",
       "      <td>T002</td>\n",
       "      <td>25.5</td>\n",
       "      <td>NaN</td>\n",
       "      <td>NaN</td>\n",
       "      <td>2011-06-11 23:42:59.285070</td>\n",
       "      <td>NaN</td>\n",
       "    </tr>\n",
       "    <tr>\n",
       "      <td>1719554</td>\n",
       "      <td>2011-06-11</td>\n",
       "      <td>23:48:02.888409</td>\n",
       "      <td>T001</td>\n",
       "      <td>23.5</td>\n",
       "      <td>NaN</td>\n",
       "      <td>NaN</td>\n",
       "      <td>2011-06-11 23:48:02.888409</td>\n",
       "      <td>NaN</td>\n",
       "    </tr>\n",
       "    <tr>\n",
       "      <td>1719555</td>\n",
       "      <td>2011-06-11</td>\n",
       "      <td>23:48:02.988798</td>\n",
       "      <td>T002</td>\n",
       "      <td>25</td>\n",
       "      <td>NaN</td>\n",
       "      <td>NaN</td>\n",
       "      <td>2011-06-11 23:48:02.988798</td>\n",
       "      <td>NaN</td>\n",
       "    </tr>\n",
       "    <tr>\n",
       "      <td>1719556</td>\n",
       "      <td>2011-06-11</td>\n",
       "      <td>23:53:06.4292</td>\n",
       "      <td>T002</td>\n",
       "      <td>25.5</td>\n",
       "      <td>NaN</td>\n",
       "      <td>NaN</td>\n",
       "      <td>2011-06-11 23:53:06.429200</td>\n",
       "      <td>NaN</td>\n",
       "    </tr>\n",
       "    <tr>\n",
       "      <td>1719557</td>\n",
       "      <td>2011-06-11</td>\n",
       "      <td>23:58:10.004834</td>\n",
       "      <td>T002</td>\n",
       "      <td>25</td>\n",
       "      <td>Sleeping</td>\n",
       "      <td>end</td>\n",
       "      <td>2011-06-11 23:58:10.004834</td>\n",
       "      <td>Sleeping end</td>\n",
       "    </tr>\n",
       "  </tbody>\n",
       "</table>\n",
       "<p>1719558 rows × 8 columns</p>\n",
       "</div>"
      ],
      "text/plain": [
       "               Date             Time Sensor Reading     Event Event_2                  Date_Time      Annotation\n",
       "0        2010-11-04  00:03:50.209589   M003      ON  Sleeping   begin 2010-11-04 00:03:50.209589  Sleeping begin\n",
       "1        2010-11-04  00:03:57.399391   M003     OFF       NaN     NaN 2010-11-04 00:03:57.399391             NaN\n",
       "2        2010-11-04  00:15:08.984841   T002    21.5       NaN     NaN 2010-11-04 00:15:08.984841             NaN\n",
       "3        2010-11-04  00:30:19.185547   T003      21       NaN     NaN 2010-11-04 00:30:19.185547             NaN\n",
       "4        2010-11-04  00:30:19.385336   T004      21       NaN     NaN 2010-11-04 00:30:19.385336             NaN\n",
       "...             ...              ...    ...     ...       ...     ...                        ...             ...\n",
       "1719553  2011-06-11   23:42:59.28507   T002    25.5       NaN     NaN 2011-06-11 23:42:59.285070             NaN\n",
       "1719554  2011-06-11  23:48:02.888409   T001    23.5       NaN     NaN 2011-06-11 23:48:02.888409             NaN\n",
       "1719555  2011-06-11  23:48:02.988798   T002      25       NaN     NaN 2011-06-11 23:48:02.988798             NaN\n",
       "1719556  2011-06-11    23:53:06.4292   T002    25.5       NaN     NaN 2011-06-11 23:53:06.429200             NaN\n",
       "1719557  2011-06-11  23:58:10.004834   T002      25  Sleeping     end 2011-06-11 23:58:10.004834    Sleeping end\n",
       "\n",
       "[1719558 rows x 8 columns]"
      ]
     },
     "execution_count": 25,
     "metadata": {},
     "output_type": "execute_result"
    }
   ],
   "source": [
    "df['Date_Time'] = pd.to_datetime(df['Date']+ ' ' + df['Time'])\n",
    "\n",
    "df['Annotation'] = df['Event']+ ' ' + df['Event_2']\n",
    "\n",
    "df"
   ]
  },
  {
   "cell_type": "code",
   "execution_count": 26,
   "metadata": {},
   "outputs": [
    {
     "data": {
      "text/html": [
       "<div>\n",
       "<style scoped>\n",
       "    .dataframe tbody tr th:only-of-type {\n",
       "        vertical-align: middle;\n",
       "    }\n",
       "\n",
       "    .dataframe tbody tr th {\n",
       "        vertical-align: top;\n",
       "    }\n",
       "\n",
       "    .dataframe thead th {\n",
       "        text-align: right;\n",
       "    }\n",
       "</style>\n",
       "<table border=\"1\" class=\"dataframe\">\n",
       "  <thead>\n",
       "    <tr style=\"text-align: right;\">\n",
       "      <th></th>\n",
       "      <th>Sensor</th>\n",
       "      <th>Reading</th>\n",
       "      <th>Date_Time</th>\n",
       "      <th>Annotation</th>\n",
       "    </tr>\n",
       "  </thead>\n",
       "  <tbody>\n",
       "    <tr>\n",
       "      <td>0</td>\n",
       "      <td>M003</td>\n",
       "      <td>ON</td>\n",
       "      <td>2010-11-04 00:03:50.209589</td>\n",
       "      <td>Sleeping begin</td>\n",
       "    </tr>\n",
       "    <tr>\n",
       "      <td>1</td>\n",
       "      <td>M003</td>\n",
       "      <td>OFF</td>\n",
       "      <td>2010-11-04 00:03:57.399391</td>\n",
       "      <td>NaN</td>\n",
       "    </tr>\n",
       "    <tr>\n",
       "      <td>2</td>\n",
       "      <td>T002</td>\n",
       "      <td>21.5</td>\n",
       "      <td>2010-11-04 00:15:08.984841</td>\n",
       "      <td>NaN</td>\n",
       "    </tr>\n",
       "    <tr>\n",
       "      <td>3</td>\n",
       "      <td>T003</td>\n",
       "      <td>21</td>\n",
       "      <td>2010-11-04 00:30:19.185547</td>\n",
       "      <td>NaN</td>\n",
       "    </tr>\n",
       "    <tr>\n",
       "      <td>4</td>\n",
       "      <td>T004</td>\n",
       "      <td>21</td>\n",
       "      <td>2010-11-04 00:30:19.385336</td>\n",
       "      <td>NaN</td>\n",
       "    </tr>\n",
       "    <tr>\n",
       "      <td>...</td>\n",
       "      <td>...</td>\n",
       "      <td>...</td>\n",
       "      <td>...</td>\n",
       "      <td>...</td>\n",
       "    </tr>\n",
       "    <tr>\n",
       "      <td>1719553</td>\n",
       "      <td>T002</td>\n",
       "      <td>25.5</td>\n",
       "      <td>2011-06-11 23:42:59.285070</td>\n",
       "      <td>NaN</td>\n",
       "    </tr>\n",
       "    <tr>\n",
       "      <td>1719554</td>\n",
       "      <td>T001</td>\n",
       "      <td>23.5</td>\n",
       "      <td>2011-06-11 23:48:02.888409</td>\n",
       "      <td>NaN</td>\n",
       "    </tr>\n",
       "    <tr>\n",
       "      <td>1719555</td>\n",
       "      <td>T002</td>\n",
       "      <td>25</td>\n",
       "      <td>2011-06-11 23:48:02.988798</td>\n",
       "      <td>NaN</td>\n",
       "    </tr>\n",
       "    <tr>\n",
       "      <td>1719556</td>\n",
       "      <td>T002</td>\n",
       "      <td>25.5</td>\n",
       "      <td>2011-06-11 23:53:06.429200</td>\n",
       "      <td>NaN</td>\n",
       "    </tr>\n",
       "    <tr>\n",
       "      <td>1719557</td>\n",
       "      <td>T002</td>\n",
       "      <td>25</td>\n",
       "      <td>2011-06-11 23:58:10.004834</td>\n",
       "      <td>Sleeping end</td>\n",
       "    </tr>\n",
       "  </tbody>\n",
       "</table>\n",
       "<p>1719558 rows × 4 columns</p>\n",
       "</div>"
      ],
      "text/plain": [
       "        Sensor Reading                  Date_Time      Annotation\n",
       "0         M003      ON 2010-11-04 00:03:50.209589  Sleeping begin\n",
       "1         M003     OFF 2010-11-04 00:03:57.399391             NaN\n",
       "2         T002    21.5 2010-11-04 00:15:08.984841             NaN\n",
       "3         T003      21 2010-11-04 00:30:19.185547             NaN\n",
       "4         T004      21 2010-11-04 00:30:19.385336             NaN\n",
       "...        ...     ...                        ...             ...\n",
       "1719553   T002    25.5 2011-06-11 23:42:59.285070             NaN\n",
       "1719554   T001    23.5 2011-06-11 23:48:02.888409             NaN\n",
       "1719555   T002      25 2011-06-11 23:48:02.988798             NaN\n",
       "1719556   T002    25.5 2011-06-11 23:53:06.429200             NaN\n",
       "1719557   T002      25 2011-06-11 23:58:10.004834    Sleeping end\n",
       "\n",
       "[1719558 rows x 4 columns]"
      ]
     },
     "execution_count": 26,
     "metadata": {},
     "output_type": "execute_result"
    }
   ],
   "source": [
    "df.drop(['Date', 'Time', 'Event', 'Event_2'], axis=1, inplace=True)\n",
    "\n",
    "df"
   ]
  },
  {
   "cell_type": "code",
   "execution_count": 27,
   "metadata": {},
   "outputs": [
    {
     "data": {
      "text/html": [
       "<div>\n",
       "<style scoped>\n",
       "    .dataframe tbody tr th:only-of-type {\n",
       "        vertical-align: middle;\n",
       "    }\n",
       "\n",
       "    .dataframe tbody tr th {\n",
       "        vertical-align: top;\n",
       "    }\n",
       "\n",
       "    .dataframe thead th {\n",
       "        text-align: right;\n",
       "    }\n",
       "</style>\n",
       "<table border=\"1\" class=\"dataframe\">\n",
       "  <thead>\n",
       "    <tr style=\"text-align: right;\">\n",
       "      <th></th>\n",
       "      <th>Date_Time</th>\n",
       "      <th>Sensor</th>\n",
       "      <th>Reading</th>\n",
       "      <th>Annotation</th>\n",
       "    </tr>\n",
       "  </thead>\n",
       "  <tbody>\n",
       "    <tr>\n",
       "      <td>0</td>\n",
       "      <td>2010-11-04 00:03:50.209589</td>\n",
       "      <td>M003</td>\n",
       "      <td>ON</td>\n",
       "      <td>Sleeping begin</td>\n",
       "    </tr>\n",
       "    <tr>\n",
       "      <td>1</td>\n",
       "      <td>2010-11-04 00:03:57.399391</td>\n",
       "      <td>M003</td>\n",
       "      <td>OFF</td>\n",
       "      <td>NaN</td>\n",
       "    </tr>\n",
       "    <tr>\n",
       "      <td>2</td>\n",
       "      <td>2010-11-04 00:15:08.984841</td>\n",
       "      <td>T002</td>\n",
       "      <td>21.5</td>\n",
       "      <td>NaN</td>\n",
       "    </tr>\n",
       "    <tr>\n",
       "      <td>3</td>\n",
       "      <td>2010-11-04 00:30:19.185547</td>\n",
       "      <td>T003</td>\n",
       "      <td>21</td>\n",
       "      <td>NaN</td>\n",
       "    </tr>\n",
       "    <tr>\n",
       "      <td>4</td>\n",
       "      <td>2010-11-04 00:30:19.385336</td>\n",
       "      <td>T004</td>\n",
       "      <td>21</td>\n",
       "      <td>NaN</td>\n",
       "    </tr>\n",
       "    <tr>\n",
       "      <td>...</td>\n",
       "      <td>...</td>\n",
       "      <td>...</td>\n",
       "      <td>...</td>\n",
       "      <td>...</td>\n",
       "    </tr>\n",
       "    <tr>\n",
       "      <td>1719553</td>\n",
       "      <td>2011-06-11 23:42:59.285070</td>\n",
       "      <td>T002</td>\n",
       "      <td>25.5</td>\n",
       "      <td>NaN</td>\n",
       "    </tr>\n",
       "    <tr>\n",
       "      <td>1719554</td>\n",
       "      <td>2011-06-11 23:48:02.888409</td>\n",
       "      <td>T001</td>\n",
       "      <td>23.5</td>\n",
       "      <td>NaN</td>\n",
       "    </tr>\n",
       "    <tr>\n",
       "      <td>1719555</td>\n",
       "      <td>2011-06-11 23:48:02.988798</td>\n",
       "      <td>T002</td>\n",
       "      <td>25</td>\n",
       "      <td>NaN</td>\n",
       "    </tr>\n",
       "    <tr>\n",
       "      <td>1719556</td>\n",
       "      <td>2011-06-11 23:53:06.429200</td>\n",
       "      <td>T002</td>\n",
       "      <td>25.5</td>\n",
       "      <td>NaN</td>\n",
       "    </tr>\n",
       "    <tr>\n",
       "      <td>1719557</td>\n",
       "      <td>2011-06-11 23:58:10.004834</td>\n",
       "      <td>T002</td>\n",
       "      <td>25</td>\n",
       "      <td>Sleeping end</td>\n",
       "    </tr>\n",
       "  </tbody>\n",
       "</table>\n",
       "<p>1719558 rows × 4 columns</p>\n",
       "</div>"
      ],
      "text/plain": [
       "                         Date_Time Sensor Reading      Annotation\n",
       "0       2010-11-04 00:03:50.209589   M003      ON  Sleeping begin\n",
       "1       2010-11-04 00:03:57.399391   M003     OFF             NaN\n",
       "2       2010-11-04 00:15:08.984841   T002    21.5             NaN\n",
       "3       2010-11-04 00:30:19.185547   T003      21             NaN\n",
       "4       2010-11-04 00:30:19.385336   T004      21             NaN\n",
       "...                            ...    ...     ...             ...\n",
       "1719553 2011-06-11 23:42:59.285070   T002    25.5             NaN\n",
       "1719554 2011-06-11 23:48:02.888409   T001    23.5             NaN\n",
       "1719555 2011-06-11 23:48:02.988798   T002      25             NaN\n",
       "1719556 2011-06-11 23:53:06.429200   T002    25.5             NaN\n",
       "1719557 2011-06-11 23:58:10.004834   T002      25    Sleeping end\n",
       "\n",
       "[1719558 rows x 4 columns]"
      ]
     },
     "execution_count": 27,
     "metadata": {},
     "output_type": "execute_result"
    }
   ],
   "source": [
    "df1 = df.reindex(columns=['Date_Time', 'Sensor', 'Reading', 'Annotation'])\n",
    "\n",
    "df1"
   ]
  },
  {
   "cell_type": "code",
   "execution_count": null,
   "metadata": {},
   "outputs": [],
   "source": []
  },
  {
   "cell_type": "code",
   "execution_count": 19,
   "metadata": {},
   "outputs": [
    {
     "data": {
      "text/html": [
       "<div>\n",
       "<style scoped>\n",
       "    .dataframe tbody tr th:only-of-type {\n",
       "        vertical-align: middle;\n",
       "    }\n",
       "\n",
       "    .dataframe tbody tr th {\n",
       "        vertical-align: top;\n",
       "    }\n",
       "\n",
       "    .dataframe thead th {\n",
       "        text-align: right;\n",
       "    }\n",
       "</style>\n",
       "<table border=\"1\" class=\"dataframe\">\n",
       "  <thead>\n",
       "    <tr style=\"text-align: right;\">\n",
       "      <th></th>\n",
       "      <th>Sensor</th>\n",
       "      <th>Reading</th>\n",
       "      <th>Annotation</th>\n",
       "    </tr>\n",
       "    <tr>\n",
       "      <th>Date_Time</th>\n",
       "      <th></th>\n",
       "      <th></th>\n",
       "      <th></th>\n",
       "    </tr>\n",
       "  </thead>\n",
       "  <tbody>\n",
       "    <tr>\n",
       "      <td>2010-11-04 00:03:50.209589</td>\n",
       "      <td>M003</td>\n",
       "      <td>ON</td>\n",
       "      <td>Sleeping begin</td>\n",
       "    </tr>\n",
       "    <tr>\n",
       "      <td>2010-11-04 00:03:57.399391</td>\n",
       "      <td>M003</td>\n",
       "      <td>OFF</td>\n",
       "      <td>NaN</td>\n",
       "    </tr>\n",
       "    <tr>\n",
       "      <td>2010-11-04 00:15:08.984841</td>\n",
       "      <td>T002</td>\n",
       "      <td>21.5</td>\n",
       "      <td>NaN</td>\n",
       "    </tr>\n",
       "    <tr>\n",
       "      <td>2010-11-04 00:30:19.185547</td>\n",
       "      <td>T003</td>\n",
       "      <td>21</td>\n",
       "      <td>NaN</td>\n",
       "    </tr>\n",
       "    <tr>\n",
       "      <td>2010-11-04 00:30:19.385336</td>\n",
       "      <td>T004</td>\n",
       "      <td>21</td>\n",
       "      <td>NaN</td>\n",
       "    </tr>\n",
       "    <tr>\n",
       "      <td>...</td>\n",
       "      <td>...</td>\n",
       "      <td>...</td>\n",
       "      <td>...</td>\n",
       "    </tr>\n",
       "    <tr>\n",
       "      <td>2011-06-11 23:42:59.285070</td>\n",
       "      <td>T002</td>\n",
       "      <td>25.5</td>\n",
       "      <td>NaN</td>\n",
       "    </tr>\n",
       "    <tr>\n",
       "      <td>2011-06-11 23:48:02.888409</td>\n",
       "      <td>T001</td>\n",
       "      <td>23.5</td>\n",
       "      <td>NaN</td>\n",
       "    </tr>\n",
       "    <tr>\n",
       "      <td>2011-06-11 23:48:02.988798</td>\n",
       "      <td>T002</td>\n",
       "      <td>25</td>\n",
       "      <td>NaN</td>\n",
       "    </tr>\n",
       "    <tr>\n",
       "      <td>2011-06-11 23:53:06.429200</td>\n",
       "      <td>T002</td>\n",
       "      <td>25.5</td>\n",
       "      <td>NaN</td>\n",
       "    </tr>\n",
       "    <tr>\n",
       "      <td>2011-06-11 23:58:10.004834</td>\n",
       "      <td>T002</td>\n",
       "      <td>25</td>\n",
       "      <td>Sleeping end</td>\n",
       "    </tr>\n",
       "  </tbody>\n",
       "</table>\n",
       "<p>1719558 rows × 3 columns</p>\n",
       "</div>"
      ],
      "text/plain": [
       "                           Sensor Reading      Annotation\n",
       "Date_Time                                                \n",
       "2010-11-04 00:03:50.209589   M003      ON  Sleeping begin\n",
       "2010-11-04 00:03:57.399391   M003     OFF             NaN\n",
       "2010-11-04 00:15:08.984841   T002    21.5             NaN\n",
       "2010-11-04 00:30:19.185547   T003      21             NaN\n",
       "2010-11-04 00:30:19.385336   T004      21             NaN\n",
       "...                           ...     ...             ...\n",
       "2011-06-11 23:42:59.285070   T002    25.5             NaN\n",
       "2011-06-11 23:48:02.888409   T001    23.5             NaN\n",
       "2011-06-11 23:48:02.988798   T002      25             NaN\n",
       "2011-06-11 23:53:06.429200   T002    25.5             NaN\n",
       "2011-06-11 23:58:10.004834   T002      25    Sleeping end\n",
       "\n",
       "[1719558 rows x 3 columns]"
      ]
     },
     "execution_count": 19,
     "metadata": {},
     "output_type": "execute_result"
    }
   ],
   "source": [
    "df1.set_index('Date_Time', inplace=True)\n",
    "\n",
    "df1"
   ]
  },
  {
   "cell_type": "code",
   "execution_count": null,
   "metadata": {},
   "outputs": [],
   "source": []
  },
  {
   "cell_type": "code",
   "execution_count": null,
   "metadata": {},
   "outputs": [],
   "source": []
  },
  {
   "cell_type": "code",
   "execution_count": 9,
   "metadata": {},
   "outputs": [
    {
     "data": {
      "text/plain": [
       "Relax end                 2909\n",
       "Relax begin               2884\n",
       "Meal_Preparation end      1596\n",
       "Meal_Preparation begin    1581\n",
       "Leave_Home end             431\n",
       "Leave_Home begin           431\n",
       "Enter_Home end             431\n",
       "Enter_Home begin           431\n",
       "Sleeping end               401\n",
       "Sleeping begin             395\n",
       "Eating end                 255\n",
       "Eating begin               251\n",
       "Work end                   170\n",
       "Work begin                 168\n",
       "Bed_to_Toilet begin        155\n",
       "Bed_to_Toilet end          154\n",
       "Wash_Dishes end             64\n",
       "Wash_Dishes begin           61\n",
       "Housekeeping end            33\n",
       "Housekeeping begin          33\n",
       "Respirate end                6\n",
       "Respirate begin              5\n",
       "Name: Annotation, dtype: int64"
      ]
     },
     "execution_count": 9,
     "metadata": {},
     "output_type": "execute_result"
    }
   ],
   "source": [
    "df1['Annotation'].value_counts()"
   ]
  },
  {
   "cell_type": "code",
   "execution_count": null,
   "metadata": {},
   "outputs": [],
   "source": [
    "#ELIMINATE THE ROWS WE DON'T CARE ABOUT - SPECIFICALLY TEMPERATURE\n"
   ]
  },
  {
   "cell_type": "markdown",
   "metadata": {},
   "source": [
    "# EXPLORE"
   ]
  },
  {
   "cell_type": "code",
   "execution_count": 10,
   "metadata": {},
   "outputs": [
    {
     "data": {
      "text/plain": [
       "(1719558, 4)"
      ]
     },
     "execution_count": 10,
     "metadata": {},
     "output_type": "execute_result"
    }
   ],
   "source": [
    "df.shape"
   ]
  },
  {
   "cell_type": "code",
   "execution_count": 11,
   "metadata": {},
   "outputs": [
    {
     "name": "stdout",
     "output_type": "stream",
     "text": [
      "<class 'pandas.core.frame.DataFrame'>\n",
      "RangeIndex: 1719558 entries, 0 to 1719557\n",
      "Data columns (total 4 columns):\n",
      "Sensor        object\n",
      "Reading       object\n",
      "Date_Time     datetime64[ns]\n",
      "Annotation    object\n",
      "dtypes: datetime64[ns](1), object(3)\n",
      "memory usage: 52.5+ MB\n"
     ]
    }
   ],
   "source": [
    "df.info()"
   ]
  },
  {
   "cell_type": "code",
   "execution_count": 12,
   "metadata": {},
   "outputs": [
    {
     "name": "stdout",
     "output_type": "stream",
     "text": [
      "Sensor                object\n",
      "Reading               object\n",
      "Date_Time     datetime64[ns]\n",
      "Annotation            object\n",
      "dtype: object\n"
     ]
    }
   ],
   "source": [
    "print(df.dtypes)"
   ]
  },
  {
   "cell_type": "code",
   "execution_count": null,
   "metadata": {},
   "outputs": [],
   "source": [
    "df['Time'].value_counts()"
   ]
  },
  {
   "cell_type": "code",
   "execution_count": null,
   "metadata": {},
   "outputs": [],
   "source": [
    "df['Sensor'].value_counts()"
   ]
  },
  {
   "cell_type": "markdown",
   "metadata": {},
   "source": [
    "# SCRUB"
   ]
  },
  {
   "cell_type": "markdown",
   "metadata": {},
   "source": [
    "# MODEL"
   ]
  },
  {
   "cell_type": "markdown",
   "metadata": {},
   "source": [
    "# iNTERPRET"
   ]
  },
  {
   "cell_type": "markdown",
   "metadata": {},
   "source": [
    "# CONCLUSIONS AND RECOMMENDATIONS"
   ]
  },
  {
   "cell_type": "code",
   "execution_count": null,
   "metadata": {},
   "outputs": [],
   "source": [
    "ROI_df2"
   ]
  },
  {
   "cell_type": "markdown",
   "metadata": {},
   "source": [
    "> **Looking at the dataframe above, there are only three zip codes (83706, 83713, 83714) that have a low probability of a negative ROI on a two year time horizon.**\n",
    "\n",
    "> **83704 and 83716 round out our 5 least risky investments, although they do have show a potential negative ROI.**"
   ]
  },
  {
   "cell_type": "markdown",
   "metadata": {},
   "source": [
    "## FUTURE WORK"
   ]
  },
  {
   "cell_type": "markdown",
   "metadata": {},
   "source": [
    "> - **Dig deeper into auto_arima to see if there are better options for hyper parameter tuning to improve our models' fit.**\n",
    "\n",
    "> - **Get more recent data (the current data set only includes dates up to April 2018) to be able to forecast more accurately into the future.**\n",
    "\n",
    "> - **Research Zillow \"Zestimate\" calculation for home sale price forecasting.**"
   ]
  }
 ],
 "metadata": {
  "kernelspec": {
   "display_name": "Python 3",
   "language": "python",
   "name": "python3"
  },
  "language_info": {
   "codemirror_mode": {
    "name": "ipython",
    "version": 3
   },
   "file_extension": ".py",
   "mimetype": "text/x-python",
   "name": "python",
   "nbconvert_exporter": "python",
   "pygments_lexer": "ipython3",
   "version": "3.6.9"
  },
  "toc": {
   "base_numbering": 1,
   "nav_menu": {},
   "number_sections": false,
   "sideBar": true,
   "skip_h1_title": false,
   "title_cell": "Table of Contents",
   "title_sidebar": "Contents",
   "toc_cell": false,
   "toc_position": {
    "height": "calc(100% - 180px)",
    "left": "10px",
    "top": "150px",
    "width": "165px"
   },
   "toc_section_display": true,
   "toc_window_display": true
  },
  "varInspector": {
   "cols": {
    "lenName": 16,
    "lenType": 16,
    "lenVar": 40
   },
   "kernels_config": {
    "python": {
     "delete_cmd_postfix": "",
     "delete_cmd_prefix": "del ",
     "library": "var_list.py",
     "varRefreshCmd": "print(var_dic_list())"
    },
    "r": {
     "delete_cmd_postfix": ") ",
     "delete_cmd_prefix": "rm(",
     "library": "var_list.r",
     "varRefreshCmd": "cat(var_dic_list()) "
    }
   },
   "types_to_exclude": [
    "module",
    "function",
    "builtin_function_or_method",
    "instance",
    "_Feature"
   ],
   "window_display": false
  }
 },
 "nbformat": 4,
 "nbformat_minor": 2
}
